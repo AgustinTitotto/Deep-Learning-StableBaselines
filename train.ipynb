{
 "cells": [
  {
   "cell_type": "code",
   "execution_count": null,
   "metadata": {},
   "outputs": [],
   "source": [
    "import torch\n",
    "torch.cuda.is_available()"
   ]
  },
  {
   "cell_type": "code",
   "execution_count": null,
   "metadata": {},
   "outputs": [],
   "source": [
    "# Ejemplo github\n",
    "\n",
    "import gymnasium as gym\n",
    "\n",
    "from stable_baselines3 import PPO\n",
    "from stable_baselines3.common.env_util import make_atari_env\n",
    "from stable_baselines3.common.vec_env import VecFrameStack\n",
    "\n",
    "log_path = './logsPPOGPU/'\n",
    "\n",
    "vec_env = make_atari_env(\"BreakoutNoFrameskip-v4\", n_envs=6)\n",
    "env=VecFrameStack(vec_env, n_stack=6)\n",
    "\n",
    "model = PPO(\"CnnPolicy\", env, verbose=1, tensorboard_log=log_path)\n",
    "model.learn(total_timesteps=5000000)\n",
    "model.save(\"BreakoutNoFrameskip-5M\")"
   ]
  },
  {
   "cell_type": "code",
   "execution_count": null,
   "metadata": {},
   "outputs": [],
   "source": [
    "## zoo-rl \n",
    "\n",
    "import gymnasium as gym\n",
    "\n",
    "from stable_baselines3 import PPO\n",
    "from stable_baselines3.common.env_util import make_atari_env\n",
    "from stable_baselines3.common.vec_env import VecFrameStack\n",
    "\n",
    "log_path = './logsPPOGPU/'\n",
    "\n",
    "\n",
    "vec_env = make_atari_env(\"MsPacmanNoFrameskip-v4\", n_envs=8)  # Adjusted n_envs to 8\n",
    "env = VecFrameStack(vec_env, n_stack=4)  # Adjusted n_stack to 4\n",
    "\n",
    "# Adjusted hyperparameters\n",
    "model = PPO(\"CnnPolicy\", env, verbose=1, tensorboard_log=log_path,\n",
    "            n_steps=128,  # Set n_steps to 128\n",
    "            n_epochs=4,  # Set n_epochs to 4\n",
    "            batch_size=256,  # Set batch_size to 256\n",
    "            learning_rate=2.5e-4,  # Set learning_rate to 2.5e-4\n",
    "            clip_range=0.1,  # Set clip_range to 0.1\n",
    "            vf_coef=0.5)  # Set vf_coef to 0.5\n",
    "\n",
    "model.learn(total_timesteps=5000000)  \n",
    "model.save(\"Pacman-v4-5M\")"
   ]
  },
  {
   "cell_type": "code",
   "execution_count": null,
   "metadata": {},
   "outputs": [],
   "source": [
    "## Load and train\n",
    "\n",
    "import gymnasium as gym\n",
    "\n",
    "from stable_baselines3 import PPO\n",
    "from stable_baselines3.common.env_util import make_atari_env\n",
    "from stable_baselines3.common.vec_env import VecFrameStack\n",
    "\n",
    "log_path = './logsPPOGPU/'\n",
    "# Parallel environments\n",
    "\n",
    "loaded_model = PPO.load(\"Breakout-5M-GPU-Zoo.zip\", verbose=1)\n",
    "vec_env = make_atari_env(\"Breakout-v4\", n_envs=8)\n",
    "env=VecFrameStack(vec_env, n_stack=4)\n",
    "loaded_model.set_env(env)\n",
    "loaded_model.learn(total_timesteps=5000000)\n",
    "loaded_model.save(\"Breakout-10M-GPU-Zoo\")"
   ]
  },
  {
   "cell_type": "code",
   "execution_count": null,
   "metadata": {},
   "outputs": [],
   "source": [
    "# Testing\n",
    "\n",
    "import gymnasium as gym\n",
    "import time\n",
    "\n",
    "from stable_baselines3 import PPO\n",
    "from stable_baselines3.common.env_util import make_atari_env\n",
    "from stable_baselines3.common.vec_env import VecFrameStack\n",
    "\n",
    "\n",
    "\n",
    "trained_model = PPO.load(\"BreakoutNoFrameskip-v4-5M.zip\", verbose=1)\n",
    "vec_env = make_atari_env(\"BreakoutNoFrameskip-v4\", n_envs=8)\n",
    "env=VecFrameStack(vec_env, n_stack=4)\n",
    "trained_model.set_env(env)\n",
    "\n",
    "\"\"\" trained_model = PPO.load(\"Breakout-10M-Zoo.zip\", verbose=1)\n",
    "vec_env = make_atari_env(\"Breakout-v4\", n_envs=8)\n",
    "env=VecFrameStack(vec_env, n_stack=4)\n",
    "trained_model.set_env(env) \"\"\"\n",
    "\n",
    "obs = env.reset()\n",
    "while True:\n",
    "    action, _states = trained_model.predict(obs)\n",
    "    obs, rewards, dones, info = env.step(action)\n",
    "    env.render(\"human\")\n",
    "    #time.sleep(.08)"
   ]
  }
 ],
 "metadata": {
  "kernelspec": {
   "display_name": "deep-learning",
   "language": "python",
   "name": "python3"
  },
  "language_info": {
   "codemirror_mode": {
    "name": "ipython",
    "version": 3
   },
   "file_extension": ".py",
   "mimetype": "text/x-python",
   "name": "python",
   "nbconvert_exporter": "python",
   "pygments_lexer": "ipython3",
   "version": "3.8.18"
  }
 },
 "nbformat": 4,
 "nbformat_minor": 2
}
